{
 "cells": [
  {
   "cell_type": "markdown",
   "metadata": {},
   "source": [
    "# Exercise 6\n",
    "\n",
    "Name and student id: Andrey Verbovskiy 1910028"
   ]
  },
  {
   "cell_type": "code",
   "execution_count": 142,
   "metadata": {},
   "outputs": [],
   "source": [
    "import numpy as np\n",
    "import matplotlib.pyplot as plt\n",
    "from tensorflow import keras\n",
    "from sklearn.preprocessing import StandardScaler\n",
    "from sklearn.model_selection import train_test_split\n",
    "from tensorflow.keras.layers import Conv2D, MaxPooling2D, UpSampling2D, Conv2DTranspose, Dense"
   ]
  },
  {
   "cell_type": "markdown",
   "metadata": {},
   "source": [
    "## Exercise 6.1: Convnet encoder-decoder for MNIST (3p)\n",
    "\n",
    "Change the fully connected autoencoder in tapaaminen6examples into a convnet-based one, ie. use Conv2D and MaxPooling2D layers in encoder and Conv2D and UpSampling2D layers in decoder. Compare the results (visually) to fully connected autoencoder results and write briefly your findings."
   ]
  },
  {
   "cell_type": "code",
   "execution_count": 156,
   "metadata": {},
   "outputs": [
    {
     "name": "stdout",
     "output_type": "stream",
     "text": [
      "(60000, 28, 28, 1)\n",
      "(10000,)\n"
     ]
    }
   ],
   "source": [
    "from tensorflow.keras.datasets import mnist\n",
    "\n",
    "(x_train, y_train), (x_test, y_test) = mnist.load_data()\n",
    "\n",
    "x_train = x_train.reshape(-1,28,28,1).astype('float32') / 255.0\n",
    "x_test = x_test.reshape(-1,28,28,1).astype('float32') / 255.0\n",
    "\n",
    "y_train_cat = keras.utils.to_categorical(y_train)\n",
    "y_test_cat = keras.utils.to_categorical(y_test)\n",
    "\n",
    "print(x_train.shape)\n",
    "print(y_test.shape)"
   ]
  },
  {
   "cell_type": "code",
   "execution_count": 150,
   "metadata": {},
   "outputs": [
    {
     "name": "stdout",
     "output_type": "stream",
     "text": [
      "Model: \"sequential_176\"\n",
      "_________________________________________________________________\n",
      "Layer (type)                 Output Shape              Param #   \n",
      "=================================================================\n",
      "conv2d_467 (Conv2D)          (None, 24, 24, 6)         156       \n",
      "_________________________________________________________________\n",
      "max_pooling2d_192 (MaxPoolin (None, 12, 12, 6)         0         \n",
      "_________________________________________________________________\n",
      "conv2d_468 (Conv2D)          (None, 8, 8, 6)           900       \n",
      "_________________________________________________________________\n",
      "max_pooling2d_193 (MaxPoolin (None, 4, 4, 6)           0         \n",
      "_________________________________________________________________\n",
      "conv2d_469 (Conv2D)          (None, 4, 4, 30)          4530      \n",
      "=================================================================\n",
      "Total params: 5,586\n",
      "Trainable params: 5,586\n",
      "Non-trainable params: 0\n",
      "_________________________________________________________________\n",
      "Model: \"sequential_177\"\n",
      "_________________________________________________________________\n",
      "Layer (type)                 Output Shape              Param #   \n",
      "=================================================================\n",
      "conv2d_470 (Conv2D)          (None, 3, 3, 6)           726       \n",
      "_________________________________________________________________\n",
      "up_sampling2d_37 (UpSampling (None, 6, 6, 6)           0         \n",
      "_________________________________________________________________\n",
      "conv2d_471 (Conv2D)          (None, 5, 5, 6)           144       \n",
      "_________________________________________________________________\n",
      "conv2d_472 (Conv2D)          (None, 2, 2, 6)           42        \n",
      "_________________________________________________________________\n",
      "conv2d_transpose_54 (Conv2DT (None, 14, 14, 64)        3520      \n",
      "_________________________________________________________________\n",
      "conv2d_transpose_55 (Conv2DT (None, 28, 28, 32)        18464     \n",
      "_________________________________________________________________\n",
      "conv2d_transpose_56 (Conv2DT (None, 28, 28, 1)         289       \n",
      "=================================================================\n",
      "Total params: 23,185\n",
      "Trainable params: 23,185\n",
      "Non-trainable params: 0\n",
      "_________________________________________________________________\n",
      "Model: \"sequential_178\"\n",
      "_________________________________________________________________\n",
      "Layer (type)                 Output Shape              Param #   \n",
      "=================================================================\n",
      "sequential_176 (Sequential)  (None, 4, 4, 30)          5586      \n",
      "_________________________________________________________________\n",
      "sequential_177 (Sequential)  (None, 28, 28, 1)         23185     \n",
      "=================================================================\n",
      "Total params: 28,771\n",
      "Trainable params: 28,771\n",
      "Non-trainable params: 0\n",
      "_________________________________________________________________\n"
     ]
    }
   ],
   "source": [
    "target_dim = 30\n",
    "encoder = keras.models.Sequential()\n",
    "\n",
    "encoder.add(Conv2D(filters=6, kernel_size=5, strides=1, use_bias=True, padding='valid', input_shape=(28, 28, 1,), activation='relu'))\n",
    "encoder.add(MaxPooling2D(pool_size=(2,2), padding='valid'))\n",
    "encoder.add(Conv2D(filters=6, kernel_size=5, strides=1, use_bias=False, padding='valid', activation='relu'))\n",
    "encoder.add(MaxPooling2D(pool_size=(2,2), padding='valid'))\n",
    "encoder.add(Conv2D(target_dim, kernel_size=5,strides=1, activation='relu', padding='same'))\n",
    "\n",
    "\n",
    "encoder.summary()\n",
    "\n",
    "decoder = keras.models.Sequential()\n",
    "\n",
    "decoder.add(Conv2D(filters=6, kernel_size=2, strides=1, use_bias=True, padding='valid', input_shape=(4,4,30,), activation='relu'))\n",
    "decoder.add(UpSampling2D(size=(2, 2)))\n",
    "decoder.add(Conv2D(filters=6, kernel_size=2, strides=1, use_bias=False, padding='valid', activation='relu'))\n",
    "decoder.add(Conv2D(filters=6, kernel_size=1,strides=3, activation='relu', padding='same'))\n",
    "decoder.add(Conv2DTranspose(64, 3, activation=\"relu\", strides=7, padding=\"same\"))\n",
    "decoder.add(Conv2DTranspose(32, 3, activation=\"relu\", strides=2, padding=\"same\"))\n",
    "decoder.add(Conv2DTranspose(1, 3, activation=\"sigmoid\", padding=\"same\"))\n",
    "\n",
    "# Dear Peter, is there any other way to make output of decoder to be in shape (28,28,1), other than using transpose and \n",
    "#changing strides value to multiply the numbers?\n",
    "decoder.summary()\n",
    "\n",
    "\n",
    "encdec = keras.models.Sequential()\n",
    "encdec.add(encoder)\n",
    "encdec.add(decoder)\n",
    "encdec.compile(optimizer='Adam', loss='mse')\n",
    "encdec.summary()"
   ]
  },
  {
   "cell_type": "code",
   "execution_count": 151,
   "metadata": {},
   "outputs": [
    {
     "name": "stdout",
     "output_type": "stream",
     "text": [
      "Epoch 1/15\n",
      "938/938 [==============================] - 19s 21ms/step - loss: 0.0774\n",
      "Epoch 2/15\n",
      "938/938 [==============================] - 20s 21ms/step - loss: 0.0667\n",
      "Epoch 3/15\n",
      "938/938 [==============================] - 21s 22ms/step - loss: 0.0656\n",
      "Epoch 4/15\n",
      "938/938 [==============================] - 22s 24ms/step - loss: 0.0648\n",
      "Epoch 5/15\n",
      "938/938 [==============================] - 20s 21ms/step - loss: 0.0621\n",
      "Epoch 6/15\n",
      "938/938 [==============================] - 20s 21ms/step - loss: 0.0608\n",
      "Epoch 7/15\n",
      "938/938 [==============================] - 21s 22ms/step - loss: 0.0603\n",
      "Epoch 8/15\n",
      "938/938 [==============================] - 20s 22ms/step - loss: 0.0599\n",
      "Epoch 9/15\n",
      "938/938 [==============================] - 20s 22ms/step - loss: 0.0597\n",
      "Epoch 10/15\n",
      "938/938 [==============================] - 21s 22ms/step - loss: 0.0594\n",
      "Epoch 11/15\n",
      "938/938 [==============================] - 21s 22ms/step - loss: 0.0593\n",
      "Epoch 12/15\n",
      "938/938 [==============================] - 21s 23ms/step - loss: 0.0591\n",
      "Epoch 13/15\n",
      "938/938 [==============================] - 22s 23ms/step - loss: 0.0590\n",
      "Epoch 14/15\n",
      "938/938 [==============================] - 22s 23ms/step - loss: 0.0589\n",
      "Epoch 15/15\n",
      "938/938 [==============================] - 21s 23ms/step - loss: 0.0588\n"
     ]
    }
   ],
   "source": [
    "hist = encdec.fit(x_train,x_train, epochs=15, batch_size=64)"
   ]
  },
  {
   "cell_type": "code",
   "execution_count": 168,
   "metadata": {},
   "outputs": [
    {
     "data": {
      "image/png": "[encoded data removed]",
      "text/plain": [
       "<Figure size 1440x288 with 20 Axes>"
      ]
     },
     "metadata": {
      "needs_background": "light"
     },
     "output_type": "display_data"
    }
   ],
   "source": [
    "x_test_ed = encdec.predict(x_test)\n",
    "\n",
    "n = 10  \n",
    "plt.figure(figsize=(20, 4))\n",
    "for i in range(n):\n",
    "    \n",
    "    ax = plt.subplot(2, n, i + 1)\n",
    "    plt.imshow(x_test[i].reshape(28, 28))\n",
    "    plt.gray()\n",
    "    ax.get_xaxis().set_visible(False)\n",
    "    ax.get_yaxis().set_visible(False)\n",
    "\n",
    "    \n",
    "    ax = plt.subplot(2, n, i + 1 + n)\n",
    "    plt.imshow(x_test_ed[i].reshape(28, 28))\n",
    "    plt.gray()\n",
    "    ax.get_xaxis().set_visible(False)\n",
    "    ax.get_yaxis().set_visible(False)\n",
    "plt.show()"
   ]
  },
  {
   "cell_type": "markdown",
   "metadata": {},
   "source": [
    "Judging from the picture, the same pixels are getting discarded in every single frame, which means that I deliberately discard some data. There is definitely an issue in my code. Maybe, the reason is conv2d_transpose, that I used in decoder. Or it could be because I did not use the functional API? All the visible parts seem to be approximately accurate. Maybe flattening and using final dense layer would make adiiference, yet as the assignment states I have to use only conv layers."
   ]
  },
  {
   "cell_type": "markdown",
   "metadata": {},
   "source": [
    "## Exercise 6.2: Imbd review sentiment analysis improvement (3p)\n",
    "\n",
    "Improve the sentiment analyser in session6examples. You might use different RNN layer (like LSTM), stack two layers, try to manage overfitting etc. Check the code examples in Keras documentation for how to handle for example LSTM layer."
   ]
  },
  {
   "cell_type": "code",
   "execution_count": 169,
   "metadata": {},
   "outputs": [
    {
     "name": "stdout",
     "output_type": "stream",
     "text": [
      "Downloading data from https://storage.googleapis.com/tensorflow/tf-keras-datasets/imdb.npz\n",
      "17465344/17464789 [==============================] - 2s 0us/step\n"
     ]
    },
    {
     "name": "stderr",
     "output_type": "stream",
     "text": [
      "<__array_function__ internals>:5: VisibleDeprecationWarning: Creating an ndarray from ragged nested sequences (which is a list-or-tuple of lists-or-tuples-or ndarrays with different lengths or shapes) is deprecated. If you meant to do this, you must specify 'dtype=object' when creating the ndarray\n",
      "C:\\Users\\averb\\anaconda3\\envs\\tf\\lib\\site-packages\\tensorflow\\python\\keras\\datasets\\imdb.py:159: VisibleDeprecationWarning: Creating an ndarray from ragged nested sequences (which is a list-or-tuple of lists-or-tuples-or ndarrays with different lengths or shapes) is deprecated. If you meant to do this, you must specify 'dtype=object' when creating the ndarray\n",
      "  x_train, y_train = np.array(xs[:idx]), np.array(labels[:idx])\n",
      "C:\\Users\\averb\\anaconda3\\envs\\tf\\lib\\site-packages\\tensorflow\\python\\keras\\datasets\\imdb.py:160: VisibleDeprecationWarning: Creating an ndarray from ragged nested sequences (which is a list-or-tuple of lists-or-tuples-or ndarrays with different lengths or shapes) is deprecated. If you meant to do this, you must specify 'dtype=object' when creating the ndarray\n",
      "  x_test, y_test = np.array(xs[idx:]), np.array(labels[idx:])\n"
     ]
    }
   ],
   "source": [
    "from tensorflow.keras.datasets import imdb \n",
    "\n",
    "vocabulary_size = 15000\n",
    "max_seq_len = 150\n",
    "\n",
    "(x_train, y_train), (x_val, y_val) = imdb.load_data(num_words=vocabulary_size)"
   ]
  },
  {
   "cell_type": "code",
   "execution_count": 170,
   "metadata": {},
   "outputs": [
    {
     "name": "stdout",
     "output_type": "stream",
     "text": [
      "(25000,) (25000,) (25000,) (25000,)\n",
      "Downloading data from https://storage.googleapis.com/tensorflow/tf-keras-datasets/imdb_word_index.json\n",
      "1646592/1641221 [==============================] - 0s 0us/step\n",
      "# just got out and cannot believe what a brilliant documentary this is rarely do you walk out of a movie theater in such awe and # lately movies have become so over hyped that the thrill of discovering something truly special and unique rarely happens # # did this to me when it first came out and this movie is doing to me now i didn't know a thing about this before going into it and what a surprise if you hear the concept you might get the feeling that this is one of those # movies about an amazing triumph covered with over the top music and trying to have us fully convinced of what a great story it is telling but then not letting us in # this is not that movie the people tell the story this does such a good job of capturing every moment of their involvement while we enter their world and feel every second with them there is so much beyond the climb that makes everything they go through so much more tense touching the void was also a great doc about mountain climbing and showing the intensity in an engaging way but this film is much more of a human story i just saw it today but i will go and say that this is one of the best documentaries i have ever seen\n"
     ]
    }
   ],
   "source": [
    "print(x_train.shape, y_train.shape, x_val.shape, y_val.shape)\n",
    "\n",
    "index_dict = imdb.get_word_index()\n",
    "word_dict = dict([(value, key) for (key, value) in index_dict.items()])\n",
    "\n",
    "# 0 - padding word, 1 - start word, 2 - out of vocabulary word (so do .get(i-3) from the reverse dictionary))\n",
    "print(\" \".join([word_dict.get(i-3, \"#\") for i in x_train[8]]))\n",
    "\n",
    "# join the train and val sets and split with 80/20 ratio\n",
    "data = np.concatenate((x_train, x_val), axis=0)\n",
    "targets = np.concatenate((y_train, y_val), axis=0)\n",
    "\n",
    "data_train, data_val, targets_train, targets_val = train_test_split(data, targets, test_size=0.2)"
   ]
  },
  {
   "cell_type": "code",
   "execution_count": 172,
   "metadata": {},
   "outputs": [
    {
     "name": "stdout",
     "output_type": "stream",
     "text": [
      "(10000, 150)\n"
     ]
    }
   ],
   "source": [
    "data_train = keras.preprocessing.sequence.pad_sequences(data_train, maxlen=max_seq_len)\n",
    "data_val = keras.preprocessing.sequence.pad_sequences(data_val, maxlen=max_seq_len)\n",
    "\n",
    "print(data_val.shape)"
   ]
  },
  {
   "cell_type": "code",
   "execution_count": 184,
   "metadata": {},
   "outputs": [
    {
     "name": "stdout",
     "output_type": "stream",
     "text": [
      "Model: \"imdb_classication_model\"\n",
      "_________________________________________________________________\n",
      "Layer (type)                 Output Shape              Param #   \n",
      "=================================================================\n",
      "input_48 (InputLayer)        [(None, 150)]             0         \n",
      "_________________________________________________________________\n",
      "embedding_8 (Embedding)      (None, 150, 40)           600000    \n",
      "_________________________________________________________________\n",
      "lstm_8 (LSTM)                [(None, 16), (None, 16),  3648      \n",
      "_________________________________________________________________\n",
      "dense_13 (Dense)             (None, 1)                 17        \n",
      "=================================================================\n",
      "Total params: 603,665\n",
      "Trainable params: 603,665\n",
      "Non-trainable params: 0\n",
      "_________________________________________________________________\n"
     ]
    }
   ],
   "source": [
    "embedded_dimension = 40\n",
    "training = True\n",
    "\n",
    "# layers defined in Keras functional API style\n",
    "\n",
    "inputs = keras.Input(shape=(max_seq_len,))\n",
    "\n",
    "embedding = keras.layers.Embedding(vocabulary_size, embedded_dimension, input_length=max_seq_len)\n",
    "\n",
    "rnn = keras.layers.LSTM(16, return_state=True, dropout=0.1)\n",
    "\n",
    "output = keras.layers.Dense(1, activation='sigmoid', kernel_regularizer=keras.regularizers.l2(0.01))\n",
    "\n",
    "# the computations\n",
    "x1 = embedding(inputs)\n",
    "_,_, x2 = rnn(x1, training=training) # extract final state from simple rnn, ignore sequence output\n",
    "outputs = output(x2)\n",
    "\n",
    "# model in created by specifying inputs and outputs\n",
    "model = keras.Model(inputs=inputs, outputs=outputs, name=\"imdb_classication_model\")\n",
    "\n",
    "model.compile(optimizer='rmsprop', loss='binary_crossentropy', metrics=['acc'])\n",
    "model.summary()"
   ]
  },
  {
   "cell_type": "code",
   "execution_count": 185,
   "metadata": {},
   "outputs": [
    {
     "name": "stdout",
     "output_type": "stream",
     "text": [
      "Epoch 1/8\n",
      "1250/1250 [==============================] - 23s 18ms/step - loss: 0.3741 - acc: 0.8409 - val_loss: 0.3180 - val_acc: 0.8740\n",
      "Epoch 2/8\n",
      "1250/1250 [==============================] - 22s 18ms/step - loss: 0.2707 - acc: 0.8968 - val_loss: 0.3351 - val_acc: 0.8612\n",
      "Epoch 3/8\n",
      "1250/1250 [==============================] - 22s 18ms/step - loss: 0.2457 - acc: 0.9071 - val_loss: 0.3111 - val_acc: 0.8726\n",
      "Epoch 4/8\n",
      "1250/1250 [==============================] - 22s 18ms/step - loss: 0.2265 - acc: 0.9153 - val_loss: 0.2837 - val_acc: 0.8861\n",
      "Epoch 5/8\n",
      "1250/1250 [==============================] - 22s 18ms/step - loss: 0.2118 - acc: 0.9197 - val_loss: 0.2918 - val_acc: 0.8830\n",
      "Epoch 6/8\n",
      "1250/1250 [==============================] - 22s 18ms/step - loss: 0.2021 - acc: 0.9236 - val_loss: 0.2904 - val_acc: 0.8871\n",
      "Epoch 7/8\n",
      "1250/1250 [==============================] - 22s 18ms/step - loss: 0.1932 - acc: 0.9270 - val_loss: 0.2861 - val_acc: 0.8860\n",
      "Epoch 8/8\n",
      "1250/1250 [==============================] - 22s 18ms/step - loss: 0.1846 - acc: 0.9315 - val_loss: 0.2737 - val_acc: 0.8927\n"
     ]
    }
   ],
   "source": [
    "hist = model.fit(data_train, targets_train, epochs=8, batch_size=32, validation_data=(data_val, targets_val))"
   ]
  },
  {
   "cell_type": "code",
   "execution_count": 186,
   "metadata": {},
   "outputs": [
    {
     "data": {
      "image/png": "[encoded data removed]",
      "text/plain": [
       "<Figure size 432x288 with 1 Axes>"
      ]
     },
     "metadata": {
      "needs_background": "light"
     },
     "output_type": "display_data"
    }
   ],
   "source": [
    "plt.plot(hist.history['acc'], 'o', label='Training accuracy')\n",
    "plt.plot(hist.history['val_acc'], label='Validation accuracy')\n",
    "plt.legend()\n",
    "plt.show()"
   ]
  },
  {
   "cell_type": "markdown",
   "metadata": {},
   "source": [
    "## Extra exercise 6.3: Translation (3p)\n",
    "\n",
    "Study the tutorial at https://www.tensorflow.org/tutorials/text/nmt_with_attention and adapt it for Eng-Fin translation. Report your findings on training the model, and on the quality of the translation (subjectively). (Note: you might need to clean the Eng-Fin translation file)."
   ]
  }
 ],
 "metadata": {
  "kernelspec": {
   "display_name": "Python 3",
   "language": "python",
   "name": "python3"
  },
  "language_info": {
   "codemirror_mode": {
    "name": "ipython",
    "version": 3
   },
   "file_extension": ".py",
   "mimetype": "text/x-python",
   "name": "python",
   "nbconvert_exporter": "python",
   "pygments_lexer": "ipython3",
   "version": "3.8.5"
  }
 },
 "nbformat": 4,
 "nbformat_minor": 4
}
