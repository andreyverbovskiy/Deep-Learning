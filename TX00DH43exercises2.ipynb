{
 "cells": [
  {
   "cell_type": "code",
   "execution_count": 1,
   "id": "realistic-hundred",
   "metadata": {},
   "outputs": [],
   "source": [
    "import numpy as np\n",
    "import matplotlib.pyplot as plt\n",
    "import math\n",
    "import tensorflow as tf\n",
    "from tensorflow import keras\n",
    "from tensorflow.keras import layers"
   ]
  },
  {
   "cell_type": "markdown",
   "id": "understood-beads",
   "metadata": {},
   "source": [
    "## 1 Forward pass for two-layer ANN with Keras (3p)\n",
    "\n",
    "Following the example code, implement forward pass for the network described below with Keras. Use weights (1,3,5), (2,4,6) and bias (-1,-2) for the two first layer neurons. For second layer, use weights (-0.1, 0.1) and activation function sigmoid."
   ]
  },
  {
   "cell_type": "code",
   "execution_count": 28,
   "id": "southwest-geology",
   "metadata": {},
   "outputs": [
    {
     "name": "stdout",
     "output_type": "stream",
     "text": [
      "Initial weights:\n",
      "[array([[-0.10711157, -0.8232199 ],\n",
      "       [ 0.9786279 ,  0.47554076],\n",
      "       [-0.16835362,  0.7393087 ]], dtype=float32), array([0., 0.], dtype=float32)]\n",
      "Initial weights2:\n",
      "[array([[ 0.14666867],\n",
      "       [-0.46977115]], dtype=float32)]\n",
      "Weights after set_weights():\n",
      "[array([[1., 2.],\n",
      "       [3., 4.],\n",
      "       [5., 6.]], dtype=float32), array([-1., -2.], dtype=float32)]\n",
      "Weights after set_weights():\n",
      "[array([[-0.1],\n",
      "       [ 0.1]], dtype=float32)]\n",
      "Result of forward pass:\n",
      "tf.Tensor([[0.549834]], shape=(1, 1), dtype=float32)\n"
     ]
    }
   ],
   "source": [
    "model = keras.Sequential()\n",
    "model.add(layers.Dense(2, input_shape=(3,), use_bias=True))\n",
    "model.add(layers.Dense(1, use_bias=False, activation='sigmoid'))\n",
    "\n",
    "W0 = model.layers[0].get_weights()\n",
    "W1 = model.layers[1].get_weights()\n",
    "\n",
    "print(\"Initial weights:\")\n",
    "print(W0)\n",
    "print(\"Initial weights2:\")\n",
    "print(W1)\n",
    "\n",
    "W0[0][0,0] = 1\n",
    "W0[0][0,1] = 2\n",
    "W0[0][1,0] = 3\n",
    "W0[0][1,1] = 4\n",
    "W0[0][2,0] = 5\n",
    "W0[0][2,1] = 6\n",
    "W0[1][0] =-1\n",
    "W0[1][1] =-2\n",
    "\n",
    "model.layers[0].set_weights(W0)\n",
    "\n",
    "W1[0][0] =-0.1\n",
    "W1[0][1] = 0.1\n",
    "model.layers[1].set_weights(W1)\n",
    "print(\"Weights after set_weights():\")\n",
    "print(model.layers[0].get_weights())\n",
    "print(\"Weights after set_weights():\")\n",
    "print(model.layers[1].get_weights())\n",
    "\n",
    "\n",
    "input_sample = np.array(([2,0,1],), dtype=np.float32)\n",
    "\n",
    "print(\"Result of forward pass:\")\n",
    "print(model.call(tf.convert_to_tensor(input_sample)))"
   ]
  },
  {
   "cell_type": "markdown",
   "id": "harmful-estate",
   "metadata": {},
   "source": [
    "## 2 Forward pass for two-layer ANN with Numpy (2p)\n",
    "\n",
    "Following the example code, implement forward pass for the exercise 1 case with numpy."
   ]
  },
  {
   "cell_type": "code",
   "execution_count": 96,
   "id": "incoming-fundamentals",
   "metadata": {},
   "outputs": [
    {
     "name": "stdout",
     "output_type": "stream",
     "text": [
      "[0.99966465 0.99752738]\n",
      "0.0\n",
      "0.5\n"
     ]
    }
   ],
   "source": [
    "\n",
    "w0 = np.column_stack((W0[1], W0[0].T))[0]\n",
    "w1 = np.column_stack((W1[0][0], W1[0][1].T))[0]\n",
    "\n",
    "input_sample = np.array(([1,2,0,1],), dtype=np.float32).T\n",
    "X1 = np.column_stack((np.ones((4,)),input_sample))\n",
    "X2 = np.column_stack((np.ones((4,)),input_sample))[0]\n",
    "\n",
    "z0 = np.dot(w0.T,X1)\n",
    "y0 = 1 / (1 + np.exp(-z0))\n",
    "print(y0)\n",
    "\n",
    "z1 = np.dot(w1.T,X2)\n",
    "print(z1)\n",
    "y1 = 1 / (1 + np.exp(-z1))\n",
    "print(y1)"
   ]
  },
  {
   "cell_type": "code",
   "execution_count": 35,
   "id": "reasonable-thomson",
   "metadata": {},
   "outputs": [
    {
     "data": {
      "image/png": "[encoded data removed]",
      "text/plain": [
       "<Figure size 432x288 with 1 Axes>"
      ]
     },
     "metadata": {
      "needs_background": "light"
     },
     "output_type": "display_data"
    }
   ],
   "source": [
    "# Create data set\n",
    "\n",
    "N = 400\n",
    "x = np.linspace(0,1,N)\n",
    "y = 0.4 + 0.2 * np.log(x+0.1) * np.sin(8 * 3.14 * x)\n",
    "\n",
    "plt.plot(x,y)\n",
    "plt.show()"
   ]
  },
  {
   "cell_type": "markdown",
   "id": "lined-airport",
   "metadata": {},
   "source": [
    "## 3 Function approximation\n",
    "\n",
    "Create an ANN model to fit the data. This time there is no need to be concerned about validatition, the result will be plotted against the function to see how the model performs.\n",
    "\n",
    "Hints:\n",
    "* you might consider using tanh/sigmoid activation function in hidden layers of the model\n",
    "* think about the value range of the function - what might be a good activation function in the output layer?\n",
    "* less that 10 layers should give a complex enough model\n",
    "* experiment with layer width(s) - way way less that 1000 is enough\n",
    "* use optimizer='adam' (we'll talk more about optimizers later)\n",
    "* some tens or even hundreds of epochs might be needed to get a well-performing model\n",
    "\n",
    "Make a plot of data and model prodictions."
   ]
  },
  {
   "cell_type": "code",
   "execution_count": 92,
   "id": "chief-voice",
   "metadata": {},
   "outputs": [
    {
     "name": "stdout",
     "output_type": "stream",
     "text": [
      "Model: \"sequential_36\"\n",
      "_________________________________________________________________\n",
      "Layer (type)                 Output Shape              Param #   \n",
      "=================================================================\n",
      "dense_102 (Dense)            (None, 100)               200       \n",
      "_________________________________________________________________\n",
      "dense_103 (Dense)            (None, 100)               10100     \n",
      "_________________________________________________________________\n",
      "dense_104 (Dense)            (None, 100)               10100     \n",
      "_________________________________________________________________\n",
      "dense_105 (Dense)            (None, 100)               10100     \n",
      "_________________________________________________________________\n",
      "dense_106 (Dense)            (None, 100)               10100     \n",
      "_________________________________________________________________\n",
      "dense_107 (Dense)            (None, 100)               10100     \n",
      "_________________________________________________________________\n",
      "dense_108 (Dense)            (None, 100)               10100     \n",
      "_________________________________________________________________\n",
      "dense_109 (Dense)            (None, 100)               10100     \n",
      "_________________________________________________________________\n",
      "dense_110 (Dense)            (None, 1)                 101       \n",
      "=================================================================\n",
      "Total params: 71,001\n",
      "Trainable params: 71,001\n",
      "Non-trainable params: 0\n",
      "_________________________________________________________________\n"
     ]
    },
    {
     "data": {
      "text/plain": [
       "<tensorflow.python.keras.callbacks.History at 0x1e675d16160>"
      ]
     },
     "execution_count": 92,
     "metadata": {},
     "output_type": "execute_result"
    }
   ],
   "source": [
    "model = keras.models.Sequential()\n",
    "model.add(keras.layers.Dense(100, input_shape=(1,), activation='tanh'))\n",
    "model.add(keras.layers.Dense(100, activation='tanh'))\n",
    "model.add(keras.layers.Dense(100, activation='tanh'))\n",
    "model.add(keras.layers.Dense(100, activation='tanh'))\n",
    "model.add(keras.layers.Dense(100, activation='tanh'))\n",
    "model.add(keras.layers.Dense(100, activation='tanh'))\n",
    "model.add(keras.layers.Dense(100, activation='tanh'))\n",
    "model.add(keras.layers.Dense(100, activation='tanh'))\n",
    "model.add(keras.layers.Dense(1))\n",
    "#\n",
    "#\n",
    "#\n",
    "\n",
    "model.summary()\n",
    "\n",
    "model.compile(optimizer='adam', loss='mse')\n",
    "\n",
    "model.fit(x,y,epochs=400,batch_size=16,verbose=0)"
   ]
  },
  {
   "cell_type": "code",
   "execution_count": 93,
   "id": "whole-trinidad",
   "metadata": {},
   "outputs": [
    {
     "data": {
      "image/png": "[encoded data removed]",
      "text/plain": [
       "<Figure size 432x288 with 1 Axes>"
      ]
     },
     "metadata": {
      "needs_background": "light"
     },
     "output_type": "display_data"
    }
   ],
   "source": [
    "xs = np.linspace(0,1,300)\n",
    "plt.plot(x, y, 'o', alpha=0.5, label='Data')\n",
    "plt.plot(xs, model.predict(xs), label=\"Model\")\n",
    "plt.legend()\n",
    "plt.show()"
   ]
  },
  {
   "cell_type": "markdown",
   "id": "crude-dallas",
   "metadata": {},
   "source": [
    "## 4 Boston housing with deep net\n",
    "\n",
    "Load and perprocess Boston housing data and create a deep model (< 5 layers) to predict house prices. You should get better predictions than with the single layer model in examples notebook. Plot training and validation accuracies per epoch."
   ]
  },
  {
   "cell_type": "code",
   "execution_count": 63,
   "id": "electric-corporation",
   "metadata": {},
   "outputs": [
    {
     "name": "stdout",
     "output_type": "stream",
     "text": [
      "Downloading data from https://storage.googleapis.com/tensorflow/tf-keras-datasets/boston_housing.npz\n",
      "57344/57026 [==============================] - 0s 1us/step\n",
      "Mean x_train values after standardisation with StandardScaler:\n",
      "[-1.01541438e-16  1.09923072e-17  1.74337992e-15 -1.26686340e-16\n",
      " -5.25377321e-15  6.41414864e-15  2.98441140e-16  4.94653823e-16\n",
      "  1.12671149e-17 -1.98136337e-16  2.36686358e-14  5.95679996e-15\n",
      "  6.13920356e-16]\n",
      "Std x_train values after standardisation with StandardScaler:\n",
      "[1. 1. 1. 1. 1. 1. 1. 1. 1. 1. 1. 1. 1.]\n"
     ]
    }
   ],
   "source": [
    "(x_train, y_train), (x_test, y_test) = keras.datasets.boston_housing.load_data()\n",
    "\n",
    "from sklearn.preprocessing import StandardScaler\n",
    "scaler = StandardScaler().fit(x_train)\n",
    "\n",
    "x_train_ss = scaler.transform(x_train)\n",
    "x_test_ss = scaler.transform(x_test)\n",
    "\n",
    "print(\"Mean x_train values after standardisation with StandardScaler:\")\n",
    "print(np.mean(x_train_ss, axis=0))\n",
    "print(\"Std x_train values after standardisation with StandardScaler:\")\n",
    "print(np.std(x_train_ss, axis=0))"
   ]
  },
  {
   "cell_type": "code",
   "execution_count": 84,
   "id": "coated-roots",
   "metadata": {},
   "outputs": [],
   "source": [
    "model2 = keras.Sequential()\n",
    "\n",
    "model2.add(layers.Dense(1, input_shape=(13,), activation='relu'))\n",
    "model2.add(layers.Dense(1, input_shape=(13,), activation='relu'))\n",
    "model2.add(layers.Dense(1, input_shape=(13,), activation='relu'))\n",
    "model2.add(layers.Dense(1, input_shape=(13,), activation='relu'))\n",
    "model2.add(keras.layers.Dense(1))\n",
    "model2.compile(loss='mse', optimizer='sgd')\n"
   ]
  },
  {
   "cell_type": "code",
   "execution_count": 85,
   "id": "judicial-joint",
   "metadata": {},
   "outputs": [
    {
     "name": "stdout",
     "output_type": "stream",
     "text": [
      "Epoch 1/50\n",
      "13/13 [==============================] - 0s 6ms/step - loss: 485.3488 - val_loss: 403.7917\n",
      "Epoch 2/50\n",
      "13/13 [==============================] - 0s 1ms/step - loss: 321.9308 - val_loss: 278.5773\n",
      "Epoch 3/50\n",
      "13/13 [==============================] - 0s 1ms/step - loss: 225.8807 - val_loss: 202.4541\n",
      "Epoch 4/50\n",
      "13/13 [==============================] - 0s 1ms/step - loss: 168.3860 - val_loss: 156.7025\n",
      "Epoch 5/50\n",
      "13/13 [==============================] - 0s 1ms/step - loss: 134.2846 - val_loss: 128.8146\n",
      "Epoch 6/50\n",
      "13/13 [==============================] - 0s 1ms/step - loss: 114.0391 - val_loss: 111.8946\n",
      "Epoch 7/50\n",
      "13/13 [==============================] - 0s 1ms/step - loss: 102.0300 - val_loss: 101.3772\n",
      "Epoch 8/50\n",
      "13/13 [==============================] - 0s 1ms/step - loss: 94.8822 - val_loss: 94.9950\n",
      "Epoch 9/50\n",
      "13/13 [==============================] - 0s 1ms/step - loss: 90.6853 - val_loss: 90.9831\n",
      "Epoch 10/50\n",
      "13/13 [==============================] - 0s 1ms/step - loss: 88.1881 - val_loss: 88.6302\n",
      "Epoch 11/50\n",
      "13/13 [==============================] - 0s 1ms/step - loss: 86.8024 - val_loss: 86.9947\n",
      "Epoch 12/50\n",
      "13/13 [==============================] - 0s 1ms/step - loss: 85.9528 - val_loss: 85.9746\n",
      "Epoch 13/50\n",
      "13/13 [==============================] - 0s 1ms/step - loss: 85.4263 - val_loss: 85.2750\n",
      "Epoch 14/50\n",
      "13/13 [==============================] - 0s 1ms/step - loss: 85.1179 - val_loss: 84.7746\n",
      "Epoch 15/50\n",
      "13/13 [==============================] - 0s 1ms/step - loss: 84.8939 - val_loss: 84.4444\n",
      "Epoch 16/50\n",
      "13/13 [==============================] - 0s 1ms/step - loss: 84.7881 - val_loss: 84.2590\n",
      "Epoch 17/50\n",
      "13/13 [==============================] - 0s 1ms/step - loss: 84.7566 - val_loss: 84.1532\n",
      "Epoch 18/50\n",
      "13/13 [==============================] - 0s 1ms/step - loss: 84.7497 - val_loss: 84.0163\n",
      "Epoch 19/50\n",
      "13/13 [==============================] - 0s 1ms/step - loss: 84.6948 - val_loss: 83.9939\n",
      "Epoch 20/50\n",
      "13/13 [==============================] - 0s 1ms/step - loss: 84.7086 - val_loss: 83.9123\n",
      "Epoch 21/50\n",
      "13/13 [==============================] - 0s 1ms/step - loss: 84.6758 - val_loss: 83.8599\n",
      "Epoch 22/50\n",
      "13/13 [==============================] - 0s 1ms/step - loss: 84.6724 - val_loss: 83.8325\n",
      "Epoch 23/50\n",
      "13/13 [==============================] - 0s 1ms/step - loss: 84.6432 - val_loss: 83.8028\n",
      "Epoch 24/50\n",
      "13/13 [==============================] - 0s 1ms/step - loss: 84.6700 - val_loss: 83.7635\n",
      "Epoch 25/50\n",
      "13/13 [==============================] - 0s 1ms/step - loss: 84.6725 - val_loss: 83.6908\n",
      "Epoch 26/50\n",
      "13/13 [==============================] - 0s 1ms/step - loss: 84.6344 - val_loss: 83.6895\n",
      "Epoch 27/50\n",
      "13/13 [==============================] - 0s 1ms/step - loss: 84.6503 - val_loss: 83.6926\n",
      "Epoch 28/50\n",
      "13/13 [==============================] - 0s 1ms/step - loss: 84.6881 - val_loss: 83.6989\n",
      "Epoch 29/50\n",
      "13/13 [==============================] - 0s 1ms/step - loss: 84.6420 - val_loss: 83.7245\n",
      "Epoch 30/50\n",
      "13/13 [==============================] - 0s 1ms/step - loss: 84.6539 - val_loss: 83.7391\n",
      "Epoch 31/50\n",
      "13/13 [==============================] - 0s 1ms/step - loss: 84.6721 - val_loss: 83.7280\n",
      "Epoch 32/50\n",
      "13/13 [==============================] - 0s 1ms/step - loss: 84.6655 - val_loss: 83.7097\n",
      "Epoch 33/50\n",
      "13/13 [==============================] - 0s 1ms/step - loss: 84.6527 - val_loss: 83.7087\n",
      "Epoch 34/50\n",
      "13/13 [==============================] - 0s 1ms/step - loss: 84.6746 - val_loss: 83.7110\n",
      "Epoch 35/50\n",
      "13/13 [==============================] - 0s 1ms/step - loss: 84.6752 - val_loss: 83.6870\n",
      "Epoch 36/50\n",
      "13/13 [==============================] - 0s 1ms/step - loss: 84.6776 - val_loss: 83.7013\n",
      "Epoch 37/50\n",
      "13/13 [==============================] - 0s 1ms/step - loss: 84.6930 - val_loss: 83.6934\n",
      "Epoch 38/50\n",
      "13/13 [==============================] - 0s 1ms/step - loss: 84.6471 - val_loss: 83.6913\n",
      "Epoch 39/50\n",
      "13/13 [==============================] - 0s 1ms/step - loss: 84.6569 - val_loss: 83.6766\n",
      "Epoch 40/50\n",
      "13/13 [==============================] - 0s 1ms/step - loss: 84.6809 - val_loss: 83.6841\n",
      "Epoch 41/50\n",
      "13/13 [==============================] - 0s 1ms/step - loss: 84.6567 - val_loss: 83.6663\n",
      "Epoch 42/50\n",
      "13/13 [==============================] - 0s 1ms/step - loss: 84.6898 - val_loss: 83.6775\n",
      "Epoch 43/50\n",
      "13/13 [==============================] - 0s 1ms/step - loss: 84.7046 - val_loss: 83.6516\n",
      "Epoch 44/50\n",
      "13/13 [==============================] - 0s 1ms/step - loss: 84.6490 - val_loss: 83.6581\n",
      "Epoch 45/50\n",
      "13/13 [==============================] - 0s 1ms/step - loss: 84.6901 - val_loss: 83.6931\n",
      "Epoch 46/50\n",
      "13/13 [==============================] - 0s 1ms/step - loss: 84.6640 - val_loss: 83.7343\n",
      "Epoch 47/50\n",
      "13/13 [==============================] - 0s 1ms/step - loss: 84.6604 - val_loss: 83.7463\n",
      "Epoch 48/50\n",
      "13/13 [==============================] - 0s 1ms/step - loss: 84.7067 - val_loss: 83.6906\n",
      "Epoch 49/50\n",
      "13/13 [==============================] - 0s 1ms/step - loss: 84.6781 - val_loss: 83.7606\n",
      "Epoch 50/50\n",
      "13/13 [==============================] - 0s 1ms/step - loss: 84.6973 - val_loss: 83.7532\n"
     ]
    }
   ],
   "source": [
    "n_epochs = 50\n",
    "hist1 = model2.fit(x_train_ss, y_train, epochs=n_epochs, batch_size = 32, validation_data=(x_test_ss, y_test))"
   ]
  },
  {
   "cell_type": "code",
   "execution_count": 89,
   "id": "ongoing-ecuador",
   "metadata": {},
   "outputs": [
    {
     "data": {
      "image/png": "[encoded data removed]",
      "text/plain": [
       "<Figure size 864x216 with 2 Axes>"
      ]
     },
     "metadata": {
      "needs_background": "light"
     },
     "output_type": "display_data"
    }
   ],
   "source": [
    "f = plt.figure(figsize=(12,3))\n",
    "\n",
    "f1 = f.add_subplot(121)\n",
    "f2 = f.add_subplot(122)\n",
    "\n",
    "f1.plot(hist1.history['loss'], label=\"Training loss\")\n",
    "f1.plot(hist1.history['val_loss'], label=\"Validation loss\")\n",
    "f1.legend()\n",
    "\n",
    "# make another plot with different scale\n",
    "f2.set_ylim([0, 100])\n",
    "f2.plot(hist1.history['loss'], label=\"Training loss\")\n",
    "f2.plot(hist1.history['val_loss'], label=\"Validation loss\")\n",
    "f2.legend()\n",
    "\n",
    "plt.show()\n"
   ]
  },
  {
   "cell_type": "code",
   "execution_count": null,
   "id": "correct-words",
   "metadata": {},
   "outputs": [],
   "source": []
  }
 ],
 "metadata": {
  "kernelspec": {
   "display_name": "Python 3",
   "language": "python",
   "name": "python3"
  },
  "language_info": {
   "codemirror_mode": {
    "name": "ipython",
    "version": 3
   },
   "file_extension": ".py",
   "mimetype": "text/x-python",
   "name": "python",
   "nbconvert_exporter": "python",
   "pygments_lexer": "ipython3",
   "version": "3.8.5"
  }
 },
 "nbformat": 4,
 "nbformat_minor": 5
}
